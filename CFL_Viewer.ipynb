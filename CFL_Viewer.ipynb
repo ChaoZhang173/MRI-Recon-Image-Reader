{
 "cells": [
  {
   "cell_type": "markdown",
   "metadata": {},
   "source": [
    "# Advanced CFL Viewer\n",
    "\n",
    "Interactive viewer for Complex Float Library (CFL) data with multi-dimensional navigation.\n",
    "\n",
    "## Features\n",
    "- Multi-directional slicing (X, Y, Z axes)\n",
    "- 90-degree rotation capability\n",
    "- Multi-dimensional data navigation\n",
    "- Multiple display modes (magnitude, phase, real, imaginary)\n",
    "- Interactive controls and keyboard shortcuts\n",
    "- Auto window/level adjustment\n",
    "\n",
    "## Usage\n",
    "1. Set your CFL file path in the configuration cell below\n",
    "2. Run all cells in order\n",
    "3. Uncomment and run the launcher in the final cell"
   ]
  },
  {
   "cell_type": "code",
   "execution_count": null,
   "metadata": {},
   "outputs": [],
   "source": [
    "# Configuration - Set your CFL file path here\n",
    "CFL_FILE_PATH = \"/path/to/your/cfl/file\"  # Update this path\n",
    "\n",
    "# Import required libraries\n",
    "import numpy as np\n",
    "import matplotlib.pyplot as plt\n",
    "import matplotlib\n",
    "matplotlib.use('TkAgg')  # Interactive backend for widgets\n",
    "\n",
    "from matplotlib.widgets import Slider, Button, RadioButtons\n",
    "import cfl_reader\n",
    "\n",
    "print(\"Libraries imported successfully!\")\n",
    "print(f\"Current file path: {CFL_FILE_PATH}\")\n",
    "print(\"Update CFL_FILE_PATH above before launching viewer.\")"
   ]
  },
  {
   "cell_type": "code",
   "execution_count": null,
   "metadata": {},
   "outputs": [],
   "source": [
    "# Load the Advanced CFL Viewer class from the Python script\n",
    "exec(open('cfl_viewer.py').read())\n",
    "\n",
    "print(\"AdvancedCFLViewer class loaded successfully!\")\n",
    "print(\"Ready to launch viewer.\")"
   ]
  },
  {
   "cell_type": "code",
   "execution_count": null,
   "metadata": {},
   "outputs": [],
   "source": [
    "# Launch the Advanced CFL Viewer\n",
    "# Uncomment the lines below to launch:\n",
    "# viewer = AdvancedCFLViewer(CFL_FILE_PATH)\n",
    "# viewer.show()\n",
    "\n",
    "print(f\"Ready to launch with file: {CFL_FILE_PATH}\")\n",
    "print(\"Uncomment the lines above to start the viewer.\")\n",
    "print(\"\\nKeyboard shortcuts:\")\n",
    "print(\"- Left/Right arrows: Navigate slices\")\n",
    "print(\"- A: Auto window/level adjustment\")\n",
    "print(\"- R: Rotate 90 degrees\")\n",
    "print(\"- X/Y/Z: Switch slice direction\")\n",
    "print(\"\\nMouse controls:\")\n",
    "print(\"- Left click: Show pixel value\")\n",
    "print(\"- Scroll wheel: Navigate slices\")"
   ]
  }
 ],
 "metadata": {
  "kernelspec": {
   "display_name": "Python 3",
   "language": "python",
   "name": "python3"
  },
  "language_info": {
   "codemirror_mode": {
    "name": "ipython",
    "version": 3
   },
   "file_extension": ".py",
   "mimetype": "text/x-python",
   "name": "python",
   "nbconvert_exporter": "python",
   "pygments_lexer": "ipython3",
   "version": "3.8.0"
  }
 },
 "nbformat": 4,
 "nbformat_minor": 4
}
